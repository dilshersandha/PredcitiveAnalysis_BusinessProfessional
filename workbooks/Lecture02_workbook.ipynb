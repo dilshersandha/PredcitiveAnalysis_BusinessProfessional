{
  "cells": [
    {
      "cell_type": "markdown",
      "metadata": {
        "id": "view-in-github",
        "colab_type": "text"
      },
      "source": [
        "<a href=\"https://colab.research.google.com/github/dilshersandha/PredcitiveAnalysis_BusinessProfessional/blob/main/workbooks/Lecture02_workbook.ipynb\" target=\"_parent\"><img src=\"https://colab.research.google.com/assets/colab-badge.svg\" alt=\"Open In Colab\"/></a>"
      ]
    },
    {
      "cell_type": "markdown",
      "metadata": {
        "id": "cH4vAyydix_e"
      },
      "source": [
        "# Lecture 2 Workbook"
      ]
    },
    {
      "cell_type": "markdown",
      "metadata": {
        "id": "q7jUzLsxix_k"
      },
      "source": [
        "### 1."
      ]
    },
    {
      "cell_type": "markdown",
      "metadata": {
        "id": "pSA3w2Q2ix_m"
      },
      "source": [
        "Print greeting to your fellow student."
      ]
    },
    {
      "cell_type": "code",
      "execution_count": 1,
      "metadata": {
        "id": "FjKJgvxIix_o",
        "outputId": "31a7f350-ffcd-4bcb-bcfe-dbd25e28951e",
        "colab": {
          "base_uri": "https://localhost:8080/"
        }
      },
      "outputs": [
        {
          "output_type": "stream",
          "name": "stdout",
          "text": [
            "Hello, fellow student!\n"
          ]
        }
      ],
      "source": [
        "print (\"Hello, fellow student!\")"
      ]
    },
    {
      "cell_type": "markdown",
      "metadata": {
        "id": "xSuDn8wOix_r"
      },
      "source": [
        "### 2."
      ]
    },
    {
      "cell_type": "markdown",
      "metadata": {
        "id": "4FwhKdWvix_t"
      },
      "source": [
        "Print the following statement:\n",
        "\n",
        "    \"The only way to do great work is to love what you do.\" - Steve Jobs"
      ]
    },
    {
      "cell_type": "code",
      "execution_count": 5,
      "metadata": {
        "id": "EwG-A68yix_w",
        "outputId": "71d02222-8996-4e64-ba20-6ff7a20a270f",
        "colab": {
          "base_uri": "https://localhost:8080/"
        }
      },
      "outputs": [
        {
          "output_type": "stream",
          "name": "stdout",
          "text": [
            "\"The only way to do great work is to love what you do.\" - Steve Jobs\n"
          ]
        }
      ],
      "source": [
        "print (\"\\\"The only way to do great work is to love what you do.\\\" - Steve Jobs\")"
      ]
    },
    {
      "cell_type": "markdown",
      "metadata": {
        "id": "4lS__sa2ix_y"
      },
      "source": [
        "### 3."
      ]
    },
    {
      "cell_type": "markdown",
      "metadata": {
        "id": "Zyd22PeDix_z"
      },
      "source": [
        "Print the following statement:\n",
        "\n",
        "    \"You're never too old to set a new goal or dream a new dream.\" - C.S. Lewis"
      ]
    },
    {
      "cell_type": "code",
      "execution_count": 6,
      "metadata": {
        "id": "-n_3NFPPix_0",
        "outputId": "162e9601-d256-42de-aee6-dcd0a5a32172",
        "colab": {
          "base_uri": "https://localhost:8080/"
        }
      },
      "outputs": [
        {
          "output_type": "stream",
          "name": "stdout",
          "text": [
            "\"You're never too old to set a new goal or dream a new dream.\" - C.S. Lewis\n"
          ]
        }
      ],
      "source": [
        "print (\"\\\"You're never too old to set a new goal or dream a new dream.\\\" - C.S. Lewis\")"
      ]
    },
    {
      "cell_type": "markdown",
      "metadata": {
        "id": "WquUQ4Slix_1"
      },
      "source": [
        "### 4."
      ]
    },
    {
      "cell_type": "markdown",
      "metadata": {
        "id": "G0wBKuTzix_2"
      },
      "source": [
        "What is 5 to the power of 5?"
      ]
    },
    {
      "cell_type": "code",
      "execution_count": 12,
      "metadata": {
        "id": "eyEFjMZnix_4",
        "outputId": "179bc81c-62cd-4062-de84-db74b92e453a",
        "colab": {
          "base_uri": "https://localhost:8080/"
        }
      },
      "outputs": [
        {
          "output_type": "stream",
          "name": "stdout",
          "text": [
            "5 to the power of 5 is: 3125\n"
          ]
        }
      ],
      "source": [
        "base = 5\n",
        "exponent = 5\n",
        "\n",
        "result = base ** exponent\n",
        "\n",
        "print(f\"{base} to the power of {exponent} is: {result}\")"
      ]
    },
    {
      "cell_type": "markdown",
      "metadata": {
        "id": "pCSu93buix_6"
      },
      "source": [
        "### 5."
      ]
    },
    {
      "cell_type": "markdown",
      "metadata": {
        "id": "xskCx3-Vix_6"
      },
      "source": [
        "What is the remainder from dividing 73 by 6?\n",
        "\n"
      ]
    },
    {
      "cell_type": "code",
      "execution_count": 11,
      "metadata": {
        "id": "eaSvqAofix_7",
        "outputId": "f49296c0-740a-49af-a45a-b2eafa6d3321",
        "colab": {
          "base_uri": "https://localhost:8080/"
        }
      },
      "outputs": [
        {
          "output_type": "stream",
          "name": "stdout",
          "text": [
            "The remainder from dividing 73 by 6 is 1.\n"
          ]
        }
      ],
      "source": [
        "dividend = 73\n",
        "divisor = 6\n",
        "\n",
        "remainder = dividend % divisor\n",
        "\n",
        "print(f\"The remainder from dividing {dividend} by {divisor} is {remainder}.\")"
      ]
    },
    {
      "cell_type": "markdown",
      "metadata": {
        "id": "g7k5FsvCix_8"
      },
      "source": [
        "### 6."
      ]
    },
    {
      "cell_type": "markdown",
      "metadata": {
        "id": "moJkTa1zix_-"
      },
      "source": [
        "How many times does the whole number 3 go into 123? What is the remainder of dividing 123 by 3?"
      ]
    },
    {
      "cell_type": "code",
      "execution_count": 10,
      "metadata": {
        "id": "2rTFza1Lix__",
        "outputId": "d150e2e3-6cf2-4c7c-8479-4937943ddbcc",
        "colab": {
          "base_uri": "https://localhost:8080/"
        }
      },
      "outputs": [
        {
          "output_type": "stream",
          "name": "stdout",
          "text": [
            "The whole number 3 goes into 123 41 times.\n",
            "The remainder of dividing 123 by 3 is 0.\n"
          ]
        }
      ],
      "source": [
        "number = 123\n",
        "divisor = 3\n",
        "\n",
        "# How many times does the whole number 3 go into 123?\n",
        "times_it_goes_in = number // divisor\n",
        "\n",
        "# What is the remainder of dividing 123 by 3?\n",
        "remainder = number % divisor\n",
        "\n",
        "print(f\"The whole number {divisor} goes into {number} {times_it_goes_in} times.\")\n",
        "print(f\"The remainder of dividing {number} by {divisor} is {remainder}.\")"
      ]
    },
    {
      "cell_type": "markdown",
      "metadata": {
        "id": "P3eBCNRPiyAB"
      },
      "source": [
        "### 7."
      ]
    },
    {
      "cell_type": "markdown",
      "metadata": {
        "id": "Q0wTbp3SiyAC"
      },
      "source": [
        "Given the following variables:\n",
        "\n",
        "```\n",
        "thing = \"light\"\n",
        "speed = 299792458  # m/s\n",
        "```\n",
        "\n",
        "Use f-strings to print:\n",
        "\n",
        "```\n",
        "The speed of light is 2.997925e+08 m/s.\n",
        "```"
      ]
    },
    {
      "cell_type": "code",
      "execution_count": 13,
      "metadata": {
        "id": "xthrVMCYiyAE",
        "outputId": "3fcd153f-0bc9-4323-aad3-c54849863c46",
        "colab": {
          "base_uri": "https://localhost:8080/"
        }
      },
      "outputs": [
        {
          "output_type": "stream",
          "name": "stdout",
          "text": [
            "The speed of light is 2.997925e+08 m/s.\n"
          ]
        }
      ],
      "source": [
        "thing = \"light\"\n",
        "speed = 299792458  # m/s\n",
        "\n",
        "# Use an f-string to format the output\n",
        "print(f\"The speed of {thing} is {speed:.6e} m/s.\")"
      ]
    },
    {
      "cell_type": "code",
      "source": [],
      "metadata": {
        "id": "0Tcm6Y_XXqYm"
      },
      "execution_count": null,
      "outputs": []
    }
  ],
  "metadata": {
    "kernelspec": {
      "display_name": "Python 3 (ipykernel)",
      "language": "python",
      "name": "python3"
    },
    "language_info": {
      "codemirror_mode": {
        "name": "ipython",
        "version": 3
      },
      "file_extension": ".py",
      "mimetype": "text/x-python",
      "name": "python",
      "nbconvert_exporter": "python",
      "pygments_lexer": "ipython3",
      "version": "3.8.16"
    },
    "colab": {
      "provenance": [],
      "include_colab_link": true
    }
  },
  "nbformat": 4,
  "nbformat_minor": 0
}